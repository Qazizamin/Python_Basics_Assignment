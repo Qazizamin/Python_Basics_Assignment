{
 "cells": [
  {
   "cell_type": "markdown",
   "metadata": {},
   "source": [
    "# Python Basics Assignment\n",
    "\n",
    "- Qazi Zamin\n",
    "- Pwskills\n",
    "- Data Science with Generative AI"
   ]
  },
  {
   "cell_type": "markdown",
   "metadata": {},
   "source": [
    "### Q1) Explain the key features of Python that make it a popular choice for programming."
   ]
  },
  {
   "cell_type": "markdown",
   "metadata": {
    "vscode": {
     "languageId": "raw"
    }
   },
   "source": [
    "python is a popular choice for programming among the programmers not because of one reason but the various. \n",
    "  some of the key features that makes python a great choice for programmers are:\n",
    "- Ease of learning: python's syntax is very simple, which makes it easy to understand and write code. This is great and easy for the beginners.\n",
    "\n",
    "- versatile nature: python can be used for many applications like web development , analyzing data, automation tasks, ML , etc...\n",
    "\n",
    "- Flexible with variables: you don't need to specify the type of data that you assign to a variable, which makes coding quicker and simpler.\n",
    "\n",
    "- strong support: python is backed by a large community and big companies, ensuring it keeps improving and staying relevant.\n",
    "\n",
    "- A lot of libraries: python comes with a range of libraries that provides modules and functions for various tasks. this allows us to perform many \n",
    "  functions without needing to write additional code. just import the library you want to use in the code. libraries are simply a piece of code \n",
    "  that can be re-used & is well structured, well optimized. there are more than 1,37,000 python libraries as of now . for example: numpy, pandas , etc...\n",
    "\n",
    "- Simplicity & Readability: Python has a clean and simple syntax that almost resembles natural language, which makes it easy to read and write.\n",
    "\n",
    "- Cross-Platform: Runs on any operating system: Windows , macOS, and Linux.\n",
    "\n"
   ]
  },
  {
   "cell_type": "markdown",
   "metadata": {},
   "source": [
    "### Q2) Describe the role of Pre-defined keywords in python and provide examples of how they are used in a program."
   ]
  },
  {
   "cell_type": "markdown",
   "metadata": {
    "vscode": {
     "languageId": "raw"
    }
   },
   "source": [
    "Predefined keywords are the words in python that hold a special meaning and have special purpose. These keywords cannot be used as identifiers \n",
    "(such as variable names or function names)  because they are already reserved for specific purposes within Python.these keywords are fundamental to the syntax\n",
    "and structure of the programs.\n",
    "to access the keywords in python simply we have to type\n",
    "help(\"keywords\") and execute it and we will get the keywords that are present in python\n",
    "once you execute the above code you will get and output like this:\n",
    "\n",
    "Here is a list of the Python keywords.  Enter any keyword to get more help.\n",
    "\n",
    "False               class               from                or\n",
    "None                continue            global              pass\n",
    "True                def                 if                  raise\n",
    "and                 del                 import              return\n",
    "as                  elif                in                  try\n",
    "assert              else                is                  while\n",
    "async               except              lambda              with\n",
    "await               finally             nonlocal            yield\n",
    "break               for                 not                \n",
    "\n",
    "\n",
    "below are some very basic and simple examples of pre-defined keywords in python that we learnt so far:"
   ]
  },
  {
   "cell_type": "code",
   "execution_count": 2,
   "metadata": {},
   "outputs": [
    {
     "name": "stdout",
     "output_type": "stream",
     "text": [
      "200 is greater than 100\n"
     ]
    }
   ],
   "source": [
    "#1 if\n",
    "\n",
    "\n",
    "a = 200\n",
    "if a > 100:\n",
    "    print(a,\"is greater than 100\")"
   ]
  },
  {
   "cell_type": "code",
   "execution_count": 5,
   "metadata": {},
   "outputs": [
    {
     "name": "stdout",
     "output_type": "stream",
     "text": [
      "99 is less than 100\n"
     ]
    }
   ],
   "source": [
    "#2 if-else (they are two keywords that are used together in a code mostly)\n",
    "\n",
    "a = 99\n",
    "if a > 100:\n",
    "    print(a,\"is greater than 100\")\n",
    "else:\n",
    "    print(a,\"is less than 100\")"
   ]
  },
  {
   "cell_type": "code",
   "execution_count": 7,
   "metadata": {},
   "outputs": [
    {
     "name": "stdout",
     "output_type": "stream",
     "text": [
      "1\n",
      "2\n",
      "3\n",
      "4\n"
     ]
    }
   ],
   "source": [
    "#3 while with break statement (both while and break comes in keywords)\n",
    "\n",
    "i = 1\n",
    "n = 9\n",
    "while i<=n:\n",
    "    print(i)\n",
    "    i = i + 1\n",
    "    if i == 5:\n",
    "        break"
   ]
  },
  {
   "cell_type": "code",
   "execution_count": 8,
   "metadata": {},
   "outputs": [
    {
     "name": "stdout",
     "output_type": "stream",
     "text": [
      "0\n",
      "2\n",
      "4\n",
      "6\n",
      "8\n"
     ]
    }
   ],
   "source": [
    "# for with continue (both for and continue are the keywords) # this is the example to find even numbers in the range of 10 using for loop with continue.\n",
    "\n",
    "for i in range(10):\n",
    "    if i % 2 != 0:\n",
    "        continue\n",
    "    print(i)"
   ]
  },
  {
   "cell_type": "markdown",
   "metadata": {},
   "source": [
    "### Q3) Compare and Contrast mutable and immutable objects in python with examples."
   ]
  },
  {
   "cell_type": "markdown",
   "metadata": {
    "vscode": {
     "languageId": "raw"
    }
   },
   "source": [
    "mutability and immutability refers to the changeability and non-changeability of the objects.\n",
    "\n",
    "so we can explain mutable objects as:\n",
    "\n",
    "- Objects that can be changed after creation.\n",
    "- Mutable objects can be useful when frequent modifications are required.\n",
    "- Mutable objects use more memory as they need to accommodate potential changes.\n",
    "- Changes to mutable objects directly affect their memory location.\n",
    "- Examples include lists, dictionaries, and sets.\n",
    "\n",
    "immutable objects are:\n",
    "\n",
    "- Objects that can not be changed after creation.\n",
    "- immutable objects are beneficial for values that should remain constant.\n",
    "- immutable objects use less memory.\n",
    "- Any operation that appears to modify an immutable object actually creates a new object.\n",
    "- Examples include integers, floats, strings, etc...\n",
    "\n",
    "\n",
    "below are the code examples for mutable and immutable objects that we discussed so far..."
   ]
  },
  {
   "cell_type": "code",
   "execution_count": 9,
   "metadata": {},
   "outputs": [
    {
     "data": {
      "text/plain": [
       "['mango', 'banana', 'pineapple', 'car']"
      ]
     },
     "execution_count": 9,
     "metadata": {},
     "output_type": "execute_result"
    }
   ],
   "source": [
    "# MUTABLE OBJECT (LET'S TAKE LIST AS AN EXAMPLE)\n",
    "\n",
    "l = [\"mango\",\"banana\",\"pineapple\",\"car\"]\n",
    "# l is a list of fruits with 'car' inside it, so let's access it\n",
    "l"
   ]
  },
  {
   "cell_type": "code",
   "execution_count": 10,
   "metadata": {},
   "outputs": [
    {
     "data": {
      "text/plain": [
       "'car'"
      ]
     },
     "execution_count": 10,
     "metadata": {},
     "output_type": "execute_result"
    }
   ],
   "source": [
    "# we want only fruits inside the list l , so we have to access car and change it to some other fruit\n",
    "# car can be accessed in two ways , positive indexing[3] or negative indexing[-1]\n",
    "\n",
    "l[3]"
   ]
  },
  {
   "cell_type": "code",
   "execution_count": 11,
   "metadata": {},
   "outputs": [
    {
     "data": {
      "text/plain": [
       "['mango', 'banana', 'pineapple', 'apple']"
      ]
     },
     "execution_count": 11,
     "metadata": {},
     "output_type": "execute_result"
    }
   ],
   "source": [
    "# now we will change 'car' to 'apple'\n",
    "\n",
    "l[3] = \"apple\"\n",
    "\n",
    "# and now we will access the list again\n",
    "\n",
    "l"
   ]
  },
  {
   "cell_type": "code",
   "execution_count": 12,
   "metadata": {},
   "outputs": [],
   "source": [
    "# so we got the updated list \"l\" for fruits . \n",
    "\n",
    "# so, by this example we can say lists are mutable"
   ]
  },
  {
   "cell_type": "code",
   "execution_count": 13,
   "metadata": {},
   "outputs": [
    {
     "data": {
      "text/plain": [
       "'n'"
      ]
     },
     "execution_count": 13,
     "metadata": {},
     "output_type": "execute_result"
    }
   ],
   "source": [
    "# IMMUTABLE OBJECTS (LET'S TAKE THE EXAMPLE OF STRING) , WE CAN ALSO TAKE INT, FLOAT AS AN EXAMPLE\n",
    "\n",
    "a = \"pythonprogramming\"\n",
    "\n",
    "# let's say, i want to access 'n' of python inside the string 'a'\n",
    "# so remember it can be accessed by either [5] or [-12]\n",
    "\n",
    "a[5]"
   ]
  },
  {
   "cell_type": "code",
   "execution_count": 14,
   "metadata": {},
   "outputs": [
    {
     "data": {
      "text/plain": [
       "'n'"
      ]
     },
     "execution_count": 14,
     "metadata": {},
     "output_type": "execute_result"
    }
   ],
   "source": [
    "a[-12]"
   ]
  },
  {
   "cell_type": "code",
   "execution_count": 15,
   "metadata": {},
   "outputs": [
    {
     "ename": "TypeError",
     "evalue": "'str' object does not support item assignment",
     "output_type": "error",
     "traceback": [
      "\u001b[1;31m---------------------------------------------------------------------------\u001b[0m",
      "\u001b[1;31mTypeError\u001b[0m                                 Traceback (most recent call last)",
      "Cell \u001b[1;32mIn[15], line 3\u001b[0m\n\u001b[0;32m      1\u001b[0m \u001b[38;5;66;03m# so if you want to change it , can you? let's try and see\u001b[39;00m\n\u001b[1;32m----> 3\u001b[0m \u001b[43ma\u001b[49m\u001b[43m[\u001b[49m\u001b[38;5;241;43m5\u001b[39;49m\u001b[43m]\u001b[49m \u001b[38;5;241m=\u001b[39m \u001b[38;5;124m\"\u001b[39m\u001b[38;5;124mq\u001b[39m\u001b[38;5;124m\"\u001b[39m\n",
      "\u001b[1;31mTypeError\u001b[0m: 'str' object does not support item assignment"
     ]
    }
   ],
   "source": [
    "# so if you want to change it , can you? let's try and see\n",
    "\n",
    "a[5] = \"q\""
   ]
  },
  {
   "cell_type": "code",
   "execution_count": 16,
   "metadata": {},
   "outputs": [],
   "source": [
    "# that's it , clearly not , as strings are immutable , in error you see the message clearly that 'str' does not support item assignment\n"
   ]
  },
  {
   "cell_type": "markdown",
   "metadata": {},
   "source": [
    "### Q4) Disscuss the types of operators in python and provide the example of how the are used."
   ]
  },
  {
   "cell_type": "markdown",
   "metadata": {
    "vscode": {
     "languageId": "raw"
    }
   },
   "source": [
    "In Python, the operators are the symbols that are used to perform operations on operands (variables, values, or expressions). \n",
    "There are many types of operators in python programming, each serving a different purpose:\n",
    "\n",
    "- ARITHMETIC OPERATORS: Arithmetic Operators are used to perform mathematical operations like addition, subtraction, multiplication, division, etc (+,-,*,/,etc)\n",
    "\n",
    "- COMPARISON (RELATIONAL) OPERATORS: Used to compare values and return True or False. (>,<,==,!=,>=,<=)\n",
    "\n",
    "- LOGICAL OPERATORS: Logical operators are used to combine  conditional statements with ( and, or, not)\n",
    "\n",
    "- ASSIGNMENT OPERATORS: Assignment operators are used to assign values to variables ( =,+=,-=)\n",
    "\n",
    "- IDENTITY OPERATORS: Identity Operators are used to compare the memory locations of two objects. (is, is not)\n",
    "\n",
    "- MEMBERSHIP OPERATORS: Membership Operators are used to test if the object is in a sequence or not. (in, not in)\n",
    "\n",
    "- BITWISE OPERATORS: Bitwise Operators provide bit-level manipulation (&, |, ^, ~, <<, >>)\n",
    "\n",
    "\n",
    "\n",
    "below are few examples for each kind of operator:"
   ]
  },
  {
   "cell_type": "code",
   "execution_count": 18,
   "metadata": {},
   "outputs": [
    {
     "data": {
      "text/plain": [
       "9"
      ]
     },
     "execution_count": 18,
     "metadata": {},
     "output_type": "execute_result"
    }
   ],
   "source": [
    "# ARITHMETC OPERATOR EXAMPLES\n",
    "\n",
    "# +\n",
    "\n",
    "x = 2\n",
    "y = 7\n",
    "z = x+y\n",
    "z"
   ]
  },
  {
   "cell_type": "code",
   "execution_count": 19,
   "metadata": {},
   "outputs": [
    {
     "data": {
      "text/plain": [
       "9"
      ]
     },
     "execution_count": 19,
     "metadata": {},
     "output_type": "execute_result"
    }
   ],
   "source": [
    "# *\n",
    "\n",
    "x = 3\n",
    "y = 3 \n",
    "x*y"
   ]
  },
  {
   "cell_type": "code",
   "execution_count": 20,
   "metadata": {},
   "outputs": [],
   "source": [
    "# similarly /, //, - ,** are performed"
   ]
  },
  {
   "cell_type": "code",
   "execution_count": null,
   "metadata": {},
   "outputs": [],
   "source": []
  },
  {
   "cell_type": "code",
   "execution_count": 21,
   "metadata": {},
   "outputs": [
    {
     "data": {
      "text/plain": [
       "False"
      ]
     },
     "execution_count": 21,
     "metadata": {},
     "output_type": "execute_result"
    }
   ],
   "source": [
    "# COMPARISON OPERATOR EXAMPLES\n",
    "\n",
    "# >\n",
    "\n",
    "a = 5\n",
    "b = 90\n",
    "a>b"
   ]
  },
  {
   "cell_type": "code",
   "execution_count": 22,
   "metadata": {},
   "outputs": [
    {
     "data": {
      "text/plain": [
       "True"
      ]
     },
     "execution_count": 22,
     "metadata": {},
     "output_type": "execute_result"
    }
   ],
   "source": [
    "# ==\n",
    "\n",
    "a = 90\n",
    "b = 90\n",
    "a == b"
   ]
  },
  {
   "cell_type": "code",
   "execution_count": 23,
   "metadata": {},
   "outputs": [],
   "source": [
    "# similarly rest are of the comparison operators are performed"
   ]
  },
  {
   "cell_type": "code",
   "execution_count": null,
   "metadata": {},
   "outputs": [],
   "source": []
  },
  {
   "cell_type": "code",
   "execution_count": 27,
   "metadata": {},
   "outputs": [
    {
     "data": {
      "text/plain": [
       "True"
      ]
     },
     "execution_count": 27,
     "metadata": {},
     "output_type": "execute_result"
    }
   ],
   "source": [
    "# LOGICAL OPERATORS EXAMPLES\n",
    "\n",
    "# and\n",
    "\n",
    "True and True # returns 1 of both are 1 "
   ]
  },
  {
   "cell_type": "code",
   "execution_count": 28,
   "metadata": {},
   "outputs": [
    {
     "data": {
      "text/plain": [
       "True"
      ]
     },
     "execution_count": 28,
     "metadata": {},
     "output_type": "execute_result"
    }
   ],
   "source": [
    "# or\n",
    "\n",
    "True or False # returns 1 if atleast one is 1"
   ]
  },
  {
   "cell_type": "code",
   "execution_count": 29,
   "metadata": {},
   "outputs": [
    {
     "data": {
      "text/plain": [
       "False"
      ]
     },
     "execution_count": 29,
     "metadata": {},
     "output_type": "execute_result"
    }
   ],
   "source": [
    "# not\n",
    "not True # returns opposite"
   ]
  },
  {
   "cell_type": "code",
   "execution_count": 30,
   "metadata": {},
   "outputs": [
    {
     "data": {
      "text/plain": [
       "24"
      ]
     },
     "execution_count": 30,
     "metadata": {},
     "output_type": "execute_result"
    }
   ],
   "source": [
    "# ASSIGNMENT OPERATOR EXAMPLE\n",
    "\n",
    "# =\n",
    "\n",
    "a = 24 # assigns value\n",
    "a"
   ]
  },
  {
   "cell_type": "code",
   "execution_count": 31,
   "metadata": {},
   "outputs": [
    {
     "data": {
      "text/plain": [
       "11"
      ]
     },
     "execution_count": 31,
     "metadata": {},
     "output_type": "execute_result"
    }
   ],
   "source": [
    "# +=\n",
    "\n",
    "a = 3\n",
    "a += 8 # this is similar to a = a + 8 .... here a was 3 , so, a = 3 + 8 = 11\n",
    "a"
   ]
  },
  {
   "cell_type": "code",
   "execution_count": 32,
   "metadata": {},
   "outputs": [
    {
     "data": {
      "text/plain": [
       "True"
      ]
     },
     "execution_count": 32,
     "metadata": {},
     "output_type": "execute_result"
    }
   ],
   "source": [
    "# IDENTITY OPERATOR EXAMPLE\n",
    "\n",
    "# is\n",
    "\n",
    "a = 5\n",
    "b = 5\n",
    "a is b # returns true if values are same"
   ]
  },
  {
   "cell_type": "code",
   "execution_count": 33,
   "metadata": {},
   "outputs": [
    {
     "data": {
      "text/plain": [
       "True"
      ]
     },
     "execution_count": 33,
     "metadata": {},
     "output_type": "execute_result"
    }
   ],
   "source": [
    "# is not\n",
    "\n",
    "a = 9\n",
    "b = 5\n",
    "a is not b # returns true if values are different"
   ]
  },
  {
   "cell_type": "code",
   "execution_count": 34,
   "metadata": {},
   "outputs": [
    {
     "data": {
      "text/plain": [
       "True"
      ]
     },
     "execution_count": 34,
     "metadata": {},
     "output_type": "execute_result"
    }
   ],
   "source": [
    "# MEMBERSHIP OPERATOR EXAMPLES:\n",
    "\n",
    "# in \n",
    "\n",
    "a = \"computer\"\n",
    "\n",
    "\"u\" in a # returns true if present in a string"
   ]
  },
  {
   "cell_type": "code",
   "execution_count": 35,
   "metadata": {},
   "outputs": [
    {
     "data": {
      "text/plain": [
       "True"
      ]
     },
     "execution_count": 35,
     "metadata": {},
     "output_type": "execute_result"
    }
   ],
   "source": [
    "# not in\n",
    "\n",
    "b = \"great\"\n",
    "\n",
    "\"tr\" not in b # returns true if not present in string"
   ]
  },
  {
   "cell_type": "code",
   "execution_count": 36,
   "metadata": {},
   "outputs": [
    {
     "data": {
      "text/plain": [
       "10"
      ]
     },
     "execution_count": 36,
     "metadata": {},
     "output_type": "execute_result"
    }
   ],
   "source": [
    "# BITWISE OPERATORS EXAMPLES\n",
    "\n",
    "# &\n",
    "\n",
    "10 & 10 # COMPARES THE BINARY VALUE ARE RETURNS THE UPDATED VALUE USING AND LOGIC"
   ]
  },
  {
   "cell_type": "code",
   "execution_count": 37,
   "metadata": {},
   "outputs": [
    {
     "data": {
      "text/plain": [
       "7"
      ]
     },
     "execution_count": 37,
     "metadata": {},
     "output_type": "execute_result"
    }
   ],
   "source": [
    "# |\n",
    "\n",
    "3|5 #COMPARES THE BINARY VALUE ARE RETURNS THE UPDATED VALUE USING OR LOGIC"
   ]
  },
  {
   "cell_type": "code",
   "execution_count": null,
   "metadata": {},
   "outputs": [],
   "source": [
    "# similarly rest of the bitwise operates are used"
   ]
  },
  {
   "cell_type": "markdown",
   "metadata": {},
   "source": [
    "### Q5) Explain the concept of Type Casting in Python with Examples."
   ]
  },
  {
   "cell_type": "markdown",
   "metadata": {
    "vscode": {
     "languageId": "raw"
    }
   },
   "source": [
    "Type casting also known as Type coversion is the process of changing the datatype of a value or object.  This is useful when you need to perform\n",
    "operations or comparisons involving different types of data. or we can say while executing or computing the values using operators, there is \n",
    "sometimes mismatches between the data, to overcome that mismatch we do type casting.\n",
    "For example:\n",
    "\n",
    "Changing an integer like 10 into a float like 10.0.\n",
    "Changing a float like 10.5 into an integer like 10.\n",
    "Changing a integer like 10 into a string of characters '10'.\n",
    "Changing string like '10' into an integer like 10.\n",
    "\n",
    "below are some illustrations of type casting :"
   ]
  },
  {
   "cell_type": "code",
   "execution_count": 38,
   "metadata": {},
   "outputs": [
    {
     "ename": "TypeError",
     "evalue": "can only concatenate str (not \"int\") to str",
     "output_type": "error",
     "traceback": [
      "\u001b[1;31m---------------------------------------------------------------------------\u001b[0m",
      "\u001b[1;31mTypeError\u001b[0m                                 Traceback (most recent call last)",
      "Cell \u001b[1;32mIn[38], line 6\u001b[0m\n\u001b[0;32m      3\u001b[0m a \u001b[38;5;241m=\u001b[39m \u001b[38;5;124m'\u001b[39m\u001b[38;5;124m6\u001b[39m\u001b[38;5;124m'\u001b[39m\n\u001b[0;32m      4\u001b[0m b \u001b[38;5;241m=\u001b[39m \u001b[38;5;241m7\u001b[39m\n\u001b[1;32m----> 6\u001b[0m \u001b[43ma\u001b[49m\u001b[38;5;241;43m+\u001b[39;49m\u001b[43mb\u001b[49m     \u001b[38;5;66;03m# when we try to execute it , it will give us an error because 'a' is a string and 'b' is an integer\u001b[39;00m\n",
      "\u001b[1;31mTypeError\u001b[0m: can only concatenate str (not \"int\") to str"
     ]
    }
   ],
   "source": [
    "# let's say we have 'a' as a string '6' and b as an integer 7\n",
    "\n",
    "a = '6'\n",
    "b = 7\n",
    "\n",
    "a+b     # when we try to execute it , it will give us an error because 'a' is a string and 'b' is an integer"
   ]
  },
  {
   "cell_type": "code",
   "execution_count": 39,
   "metadata": {},
   "outputs": [
    {
     "data": {
      "text/plain": [
       "str"
      ]
     },
     "execution_count": 39,
     "metadata": {},
     "output_type": "execute_result"
    }
   ],
   "source": [
    "type(a)"
   ]
  },
  {
   "cell_type": "code",
   "execution_count": 40,
   "metadata": {},
   "outputs": [
    {
     "data": {
      "text/plain": [
       "int"
      ]
     },
     "execution_count": 40,
     "metadata": {},
     "output_type": "execute_result"
    }
   ],
   "source": [
    "type(b)"
   ]
  },
  {
   "cell_type": "code",
   "execution_count": 41,
   "metadata": {},
   "outputs": [
    {
     "data": {
      "text/plain": [
       "13"
      ]
     },
     "execution_count": 41,
     "metadata": {},
     "output_type": "execute_result"
    }
   ],
   "source": [
    "# so here we have to do type casting for 'a'\n",
    "\n",
    "a = int(a)     # here we did type casting by putting int() , \n",
    "\n",
    "a + b          # this will execute and give us result 6 + 7 = 13"
   ]
  },
  {
   "cell_type": "code",
   "execution_count": 42,
   "metadata": {},
   "outputs": [
    {
     "data": {
      "text/plain": [
       "13"
      ]
     },
     "execution_count": 42,
     "metadata": {},
     "output_type": "execute_result"
    }
   ],
   "source": [
    "# another way of doing it\n",
    "\n",
    "int(a) + b     # it will also give us the same result"
   ]
  },
  {
   "cell_type": "code",
   "execution_count": 43,
   "metadata": {},
   "outputs": [
    {
     "data": {
      "text/plain": [
       "int"
      ]
     },
     "execution_count": 43,
     "metadata": {},
     "output_type": "execute_result"
    }
   ],
   "source": [
    "# now lets check type of both variables\n",
    "\n",
    "type(a)       # if you remember , above it was a string data type"
   ]
  },
  {
   "cell_type": "code",
   "execution_count": 44,
   "metadata": {},
   "outputs": [
    {
     "data": {
      "text/plain": [
       "int"
      ]
     },
     "execution_count": 44,
     "metadata": {},
     "output_type": "execute_result"
    }
   ],
   "source": [
    "type(b)"
   ]
  },
  {
   "cell_type": "code",
   "execution_count": 45,
   "metadata": {},
   "outputs": [
    {
     "data": {
      "text/plain": [
       "int"
      ]
     },
     "execution_count": 45,
     "metadata": {},
     "output_type": "execute_result"
    }
   ],
   "source": [
    "# similarly we can convert other data types\n",
    "\n",
    "# int to float\n",
    "\n",
    "a = 11\n",
    "type(a)"
   ]
  },
  {
   "cell_type": "code",
   "execution_count": 46,
   "metadata": {},
   "outputs": [
    {
     "data": {
      "text/plain": [
       "float"
      ]
     },
     "execution_count": 46,
     "metadata": {},
     "output_type": "execute_result"
    }
   ],
   "source": [
    "type(float(a))"
   ]
  },
  {
   "cell_type": "code",
   "execution_count": 47,
   "metadata": {},
   "outputs": [
    {
     "data": {
      "text/plain": [
       "int"
      ]
     },
     "execution_count": 47,
     "metadata": {},
     "output_type": "execute_result"
    }
   ],
   "source": [
    "# int to string\n",
    "\n",
    "a = 10\n",
    "type(a)"
   ]
  },
  {
   "cell_type": "code",
   "execution_count": 48,
   "metadata": {},
   "outputs": [
    {
     "data": {
      "text/plain": [
       "str"
      ]
     },
     "execution_count": 48,
     "metadata": {},
     "output_type": "execute_result"
    }
   ],
   "source": [
    "a = str(a)\n",
    "type(a)"
   ]
  },
  {
   "cell_type": "code",
   "execution_count": 49,
   "metadata": {},
   "outputs": [
    {
     "data": {
      "text/plain": [
       "float"
      ]
     },
     "execution_count": 49,
     "metadata": {},
     "output_type": "execute_result"
    }
   ],
   "source": [
    "# float to str\n",
    "\n",
    "a = 12.2\n",
    "type(a)"
   ]
  },
  {
   "cell_type": "code",
   "execution_count": 50,
   "metadata": {},
   "outputs": [
    {
     "data": {
      "text/plain": [
       "'12.2'"
      ]
     },
     "execution_count": 50,
     "metadata": {},
     "output_type": "execute_result"
    }
   ],
   "source": [
    "a = str(a)\n",
    "a"
   ]
  },
  {
   "cell_type": "code",
   "execution_count": 51,
   "metadata": {},
   "outputs": [
    {
     "data": {
      "text/plain": [
       "str"
      ]
     },
     "execution_count": 51,
     "metadata": {},
     "output_type": "execute_result"
    }
   ],
   "source": [
    "type(a)"
   ]
  },
  {
   "cell_type": "code",
   "execution_count": 52,
   "metadata": {},
   "outputs": [
    {
     "data": {
      "text/plain": [
       "float"
      ]
     },
     "execution_count": 52,
     "metadata": {},
     "output_type": "execute_result"
    }
   ],
   "source": [
    "# float to int\n",
    "\n",
    "a = 15.9\n",
    "type(a)"
   ]
  },
  {
   "cell_type": "code",
   "execution_count": 53,
   "metadata": {},
   "outputs": [
    {
     "data": {
      "text/plain": [
       "15"
      ]
     },
     "execution_count": 53,
     "metadata": {},
     "output_type": "execute_result"
    }
   ],
   "source": [
    "a = int(a)\n",
    "a"
   ]
  },
  {
   "cell_type": "code",
   "execution_count": 54,
   "metadata": {},
   "outputs": [
    {
     "data": {
      "text/plain": [
       "int"
      ]
     },
     "execution_count": 54,
     "metadata": {},
     "output_type": "execute_result"
    }
   ],
   "source": [
    "type(a)"
   ]
  },
  {
   "cell_type": "code",
   "execution_count": null,
   "metadata": {},
   "outputs": [],
   "source": []
  },
  {
   "cell_type": "markdown",
   "metadata": {},
   "source": [
    "### Q6) How do conditional statements work in python? illustrate with examples."
   ]
  },
  {
   "cell_type": "markdown",
   "metadata": {
    "vscode": {
     "languageId": "raw"
    }
   },
   "source": [
    "Conditional statements in Python allow you to make decisions in your code based on certain conditions. \n",
    "it helps us to code decisions based on some pre conditions.\n",
    "\n",
    "we have:\n",
    "\n",
    "- if Statement: Executes a block of code if a condition is true.\n",
    "\n",
    "- if-else Statement: Executes one block of code if a condition is true, and another block if it's false.\n",
    "\n",
    "- if-elif-else Statement: Allows checking multiple conditions and executing different blocks of code accordingly.\n",
    "\n",
    "- Nested if-else Statement: You can also nest one conditional statement inside another to create more complex decision-making logic.\n",
    "\n",
    "below are the examples to illustrate each statement."
   ]
  },
  {
   "cell_type": "code",
   "execution_count": 56,
   "metadata": {},
   "outputs": [
    {
     "name": "stdout",
     "output_type": "stream",
     "text": [
      "this is the no which is completely divisible by 2 and greater than 0\n"
     ]
    }
   ],
   "source": [
    "# if statement\n",
    "\n",
    "num = 48\n",
    "if ((num % 2) == 0 & (num > 0)):\n",
    "    print(\"this is the no which is completely divisible by 2 and greater than 0\")"
   ]
  },
  {
   "cell_type": "code",
   "execution_count": 59,
   "metadata": {},
   "outputs": [
    {
     "name": "stdout",
     "output_type": "stream",
     "text": [
      "number is less than 100\n"
     ]
    }
   ],
   "source": [
    "# if-else statement\n",
    "\n",
    "num = 90\n",
    "if num > 100:\n",
    "    print(\"number is greater than 100\")\n",
    "else:\n",
    "    print(\"number is less than 100\")"
   ]
  },
  {
   "cell_type": "code",
   "execution_count": 64,
   "metadata": {},
   "outputs": [
    {
     "name": "stdout",
     "output_type": "stream",
     "text": [
      "B+ Grade\n"
     ]
    }
   ],
   "source": [
    "# if elif else\n",
    "\n",
    "score = 77\n",
    "\n",
    "if score >= 90:\n",
    "    print(\"A+ Grade\")\n",
    "elif 80 <= score < 90:\n",
    "    print(\"A Grade\")\n",
    "elif 70 <= score < 80:\n",
    "    print(\"B+ Grade\")\n",
    "else:\n",
    "    print(\"Fail\")"
   ]
  },
  {
   "cell_type": "code",
   "execution_count": 70,
   "metadata": {},
   "outputs": [
    {
     "name": "stdout",
     "output_type": "stream",
     "text": [
      "welcome! you are eligible for our senior citizen discount\n"
     ]
    }
   ],
   "source": [
    "# nested if-else\n",
    "\n",
    "is_vip = True\n",
    "age = 66\n",
    "\n",
    "if is_vip:\n",
    "    if age >= 18:\n",
    "        if age < 65:\n",
    "            print(\"welcome! you are our vip customer\")\n",
    "        else:\n",
    "            print(\"welcome! you are eligible for our senior citizen discount\")\n",
    "    else:\n",
    "        print(\"discount is only for people above the age 18\")\n",
    "else:\n",
    "    print(\"sale is over\")"
   ]
  },
  {
   "cell_type": "code",
   "execution_count": null,
   "metadata": {},
   "outputs": [],
   "source": []
  },
  {
   "cell_type": "markdown",
   "metadata": {},
   "source": [
    "### Q7) Describe the different types of loops in python and their use cases with example."
   ]
  },
  {
   "cell_type": "markdown",
   "metadata": {
    "vscode": {
     "languageId": "raw"
    }
   },
   "source": [
    "Loop statements in python allows us to execute a block of code repeatedly until a certain condition is met.\n",
    "In Python, there are mainly two types of loops:\n",
    "\n",
    "for loop \n",
    "&\n",
    "while loop. \n",
    "\n",
    "\n",
    "for Loop : for Loop iterates over a sequence of elements (such as a list, tuple, string, or range) and executes \n",
    "the block of code for each item in the sequence.\n",
    "\n",
    "Use Cases:\n",
    "\n",
    "When you need to perform a task a specific number of times (using range).\n",
    "\n",
    "When you want to iterate over elements in a sequence, such as lists, tuples, or strings.\n",
    "\n",
    "\n",
    "while Loop: while Loop executes a block of code repeatedly as long as a specified condition is true.\n",
    "\n",
    "Use Cases:\n",
    "\n",
    "When you want to repeat a block of code until a certain condition is met.\n",
    "\n",
    "When the number of iterations is not predetermined or variable.\n",
    "\n",
    "\n",
    "BREAK STATEMENT: as the name suggests , it breaks the loop . which means break terminates or exits the loop as it meets the condition.\n",
    "\n",
    "CONTINUE STATEMENT: continue terminates only that particular iteration , after that it will keep continuing until the condition keep satisfying.\n",
    "\n",
    "\n",
    "BELOW ARE THE EXAMPLES OF BOTH LOOPS , (ALSO WITH BREAK AND CONTINUE STATEMENT)"
   ]
  },
  {
   "cell_type": "code",
   "execution_count": 75,
   "metadata": {},
   "outputs": [
    {
     "name": "stdout",
     "output_type": "stream",
     "text": [
      "1\n",
      "2\n",
      "3\n",
      "4\n",
      "5\n",
      "6\n"
     ]
    }
   ],
   "source": [
    "# WHILE LOOP\n",
    "\n",
    "n = 7\n",
    "i = 1\n",
    "\n",
    "while i<n:\n",
    "    print(i)\n",
    "    i += 1"
   ]
  },
  {
   "cell_type": "code",
   "execution_count": 76,
   "metadata": {},
   "outputs": [
    {
     "name": "stdout",
     "output_type": "stream",
     "text": [
      "5\n",
      "4\n",
      "3\n",
      "2\n",
      "1\n"
     ]
    }
   ],
   "source": [
    "count = 5\n",
    "\n",
    "while count > 0:\n",
    "    print(count)\n",
    "    count = count -1"
   ]
  },
  {
   "cell_type": "code",
   "execution_count": 87,
   "metadata": {},
   "outputs": [
    {
     "name": "stdout",
     "output_type": "stream",
     "text": [
      "1\n",
      "2\n",
      "3\n",
      "4\n",
      "5\n",
      "6\n",
      "7\n",
      "8\n",
      "9\n",
      "10\n",
      "11\n",
      "this will be printed if while runs successfully without a break\n"
     ]
    }
   ],
   "source": [
    "# WHILE LOOP WITH ELSE\n",
    "n = 12\n",
    "i = 1\n",
    "\n",
    "while i<n:\n",
    "    print(i)\n",
    "    i +=1\n",
    "else:\n",
    "    print(\"this will be printed if while runs successfully without a break\")"
   ]
  },
  {
   "cell_type": "code",
   "execution_count": 80,
   "metadata": {},
   "outputs": [
    {
     "name": "stdout",
     "output_type": "stream",
     "text": [
      "1\n",
      "2\n",
      "3\n",
      "4\n"
     ]
    }
   ],
   "source": [
    "# WHILE WITH BREAK STATEMENT\n",
    "\n",
    "n = 12\n",
    "i = 1\n",
    "\n",
    "while i<n:\n",
    "    print(i)\n",
    "    i +=1\n",
    "    if i == 5:      # till 5 we will get the interview and after that nothing will be executed, no output from 5 onwards\n",
    "        break\n",
    "else:\n",
    "    print(\"this will be printed if while runs successfully without a break\")"
   ]
  },
  {
   "cell_type": "code",
   "execution_count": 84,
   "metadata": {},
   "outputs": [
    {
     "name": "stdout",
     "output_type": "stream",
     "text": [
      "2\n",
      "3\n",
      "4\n",
      "6\n",
      "7\n",
      "8\n",
      "9\n",
      "10\n",
      "11\n",
      "12\n",
      "this will be printed if while runs successfully without a break\n"
     ]
    }
   ],
   "source": [
    "# WHILE WITH CONTINUE STATEMENT\n",
    "\n",
    "n = 12\n",
    "i = 1\n",
    "\n",
    "while i<n:\n",
    "    i += 1\n",
    "    if (i == 5):    # it will execute and at 5 , it will skip 5 and continue the rest ...\n",
    "        continue\n",
    "    print(i)\n",
    "else:\n",
    "    print(\"this will be printed if while runs successfully without a break\")"
   ]
  },
  {
   "cell_type": "code",
   "execution_count": 85,
   "metadata": {},
   "outputs": [
    {
     "name": "stdout",
     "output_type": "stream",
     "text": [
      "p\n",
      "w\n",
      "s\n",
      "k\n",
      "i\n",
      "l\n",
      "l\n",
      "s\n"
     ]
    }
   ],
   "source": [
    "# FOR LOOP\n",
    "\n",
    "for i in \"pwskills\":\n",
    "    print(i)"
   ]
  },
  {
   "cell_type": "code",
   "execution_count": 88,
   "metadata": {},
   "outputs": [
    {
     "name": "stdout",
     "output_type": "stream",
     "text": [
      "car\n",
      "bike\n",
      "bus\n",
      "train\n"
     ]
    }
   ],
   "source": [
    "l = ['car','bike','bus','train']\n",
    "for i in l:\n",
    "    print(i)"
   ]
  },
  {
   "cell_type": "code",
   "execution_count": 89,
   "metadata": {},
   "outputs": [
    {
     "name": "stdout",
     "output_type": "stream",
     "text": [
      "car\n",
      "bike\n",
      "bus\n",
      "train\n",
      "this will be printed if for loop runs successfully without a break\n"
     ]
    }
   ],
   "source": [
    "# FOR LOOP WITH ELSE\n",
    "\n",
    "l = ['car','bike','bus','train']\n",
    "for i in l:\n",
    "    print(i)\n",
    "else:\n",
    "    print(\"this will be printed if for loop runs successfully without a break\")\n"
   ]
  },
  {
   "cell_type": "code",
   "execution_count": 90,
   "metadata": {},
   "outputs": [
    {
     "name": "stdout",
     "output_type": "stream",
     "text": [
      "car\n",
      "bike\n"
     ]
    }
   ],
   "source": [
    "# FOR LOOP WITH BREAK STATEMENT\n",
    "\n",
    "l = ['car','bike','bus','train']\n",
    "for i in l:\n",
    "    if i == 'bus':\n",
    "        break\n",
    "    print(i)\n",
    "else:\n",
    "    print(\"this will be printed if for loop runs successfully without a break\")"
   ]
  },
  {
   "cell_type": "code",
   "execution_count": 91,
   "metadata": {},
   "outputs": [
    {
     "name": "stdout",
     "output_type": "stream",
     "text": [
      "car\n",
      "bus\n",
      "train\n",
      "this will be printed if for loop runs successfully without a break\n"
     ]
    }
   ],
   "source": [
    "# FOR LOOP WITH CONTINUE STATEMENT\n",
    "\n",
    "l = ['car','bike','bus','train']\n",
    "for i in l:\n",
    "    if i == 'bike':\n",
    "        continue\n",
    "    print(i)\n",
    "else:\n",
    "    print(\"this will be printed if for loop runs successfully without a break\")"
   ]
  },
  {
   "cell_type": "markdown",
   "metadata": {},
   "source": [
    "--------------------------------------------------------------------------------------------------------------------"
   ]
  },
  {
   "cell_type": "markdown",
   "metadata": {},
   "source": [
    "- few problem statements on while and for loop"
   ]
  },
  {
   "cell_type": "code",
   "execution_count": 93,
   "metadata": {},
   "outputs": [
    {
     "name": "stdout",
     "output_type": "stream",
     "text": [
      "@ \n",
      "@ @ \n",
      "@ @ @ \n",
      "@ @ @ @ \n",
      "@ @ @ @ @ \n"
     ]
    }
   ],
   "source": [
    "# PRINT A RIGHT TRIANGLE WITH '@' USING WHILE LOOP\n",
    "\n",
    "row = 1\n",
    "\n",
    "while row <= 5:\n",
    "    col = 1\n",
    "    while col <= row:\n",
    "        print(\"@\", end = \" \")\n",
    "        col += 1\n",
    "    print()\n",
    "    row += 1"
   ]
  },
  {
   "cell_type": "code",
   "execution_count": 94,
   "metadata": {},
   "outputs": [
    {
     "name": "stdout",
     "output_type": "stream",
     "text": [
      "@ \n",
      "@ @ \n",
      "@ @ @ \n",
      "@ @ @ @ \n",
      "@ @ @ @ @ \n",
      "@ @ @ @ @ @ \n"
     ]
    }
   ],
   "source": [
    "# PRINT A RIGHT TRIANGLE WITH '@' USING FOR LOOP\n",
    "\n",
    "for i in range(6):\n",
    "    for j in range(i+1):\n",
    "        print(\"@\", end = \" \")\n",
    "    print()"
   ]
  },
  {
   "cell_type": "code",
   "execution_count": 95,
   "metadata": {},
   "outputs": [
    {
     "name": "stdout",
     "output_type": "stream",
     "text": [
      "0\n",
      "2\n",
      "4\n",
      "6\n",
      "8\n",
      "10\n",
      "12\n",
      "14\n",
      "16\n",
      "18\n"
     ]
    }
   ],
   "source": [
    "# PRINT THE EVEN NUMBERS IN RANGE OF 20 USING FOR LOOP\n",
    "\n",
    "for i in range(0,20,2):\n",
    "    print(i)"
   ]
  },
  {
   "cell_type": "code",
   "execution_count": 1,
   "metadata": {},
   "outputs": [
    {
     "name": "stdout",
     "output_type": "stream",
     "text": [
      "0\n",
      "2\n",
      "4\n",
      "6\n",
      "8\n",
      "10\n",
      "12\n",
      "14\n",
      "16\n",
      "18\n"
     ]
    }
   ],
   "source": [
    "# PRINT THE EVEN NUMBERS IN RANGE OF 20 USING FOR LOOP WITH CONTINUE STATEMENT\n",
    "\n",
    "for i in range(20):\n",
    "    if i % 2 != 0:\n",
    "        continue\n",
    "    print(i)"
   ]
  },
  {
   "cell_type": "code",
   "execution_count": 97,
   "metadata": {},
   "outputs": [
    {
     "name": "stdout",
     "output_type": "stream",
     "text": [
      "1\n",
      "3\n",
      "5\n",
      "7\n",
      "9\n",
      "11\n",
      "13\n",
      "15\n",
      "17\n",
      "19\n"
     ]
    }
   ],
   "source": [
    "# PRINT THE ODD NUMBERS IN RANGE OF 20 USING FOR LOOP\n",
    "\n",
    "for i in range(1,20,2):\n",
    "    print(i)"
   ]
  },
  {
   "cell_type": "code",
   "execution_count": 98,
   "metadata": {},
   "outputs": [
    {
     "name": "stdout",
     "output_type": "stream",
     "text": [
      "1\n",
      "3\n",
      "5\n",
      "7\n",
      "9\n",
      "11\n",
      "13\n",
      "15\n",
      "17\n",
      "19\n"
     ]
    }
   ],
   "source": [
    "# PRINT THE EVEN NUMBERS IN RANGE OF 20 USING FOR LOOP USING CONTINUE\n",
    "\n",
    "for i in range(20):\n",
    "    if i % 2 == 0:\n",
    "        continue\n",
    "    print(i)"
   ]
  },
  {
   "cell_type": "code",
   "execution_count": 3,
   "metadata": {},
   "outputs": [
    {
     "name": "stdout",
     "output_type": "stream",
     "text": [
      "1011*1 = 1011\n",
      "1011*2 = 2022\n",
      "1011*3 = 3033\n",
      "1011*4 = 4044\n",
      "1011*5 = 5055\n",
      "1011*6 = 6066\n",
      "1011*7 = 7077\n",
      "1011*8 = 8088\n",
      "1011*9 = 9099\n",
      "1011*10 = 10110\n",
      "\n",
      "1012*1 = 1012\n",
      "1012*2 = 2024\n",
      "1012*3 = 3036\n",
      "1012*4 = 4048\n",
      "1012*5 = 5060\n",
      "1012*6 = 6072\n",
      "1012*7 = 7084\n",
      "1012*8 = 8096\n",
      "1012*9 = 9108\n",
      "1012*10 = 10120\n",
      "\n",
      "1013*1 = 1013\n",
      "1013*2 = 2026\n",
      "1013*3 = 3039\n",
      "1013*4 = 4052\n",
      "1013*5 = 5065\n",
      "1013*6 = 6078\n",
      "1013*7 = 7091\n",
      "1013*8 = 8104\n",
      "1013*9 = 9117\n",
      "1013*10 = 10130\n",
      "\n"
     ]
    }
   ],
   "source": [
    "# MULTIPLICATION TABLE OF 1011 , 1012 & 1013 USING FOR LOOP\n",
    "\n",
    "for i in range(1011,1014):\n",
    "    for j in range(1,11):\n",
    "        product = i*j\n",
    "        print(f\"{i}*{j} = {product}\")\n",
    "    print()"
   ]
  },
  {
   "cell_type": "code",
   "execution_count": null,
   "metadata": {},
   "outputs": [],
   "source": []
  }
 ],
 "metadata": {
  "kernelspec": {
   "display_name": "Python 3",
   "language": "python",
   "name": "python3"
  },
  "language_info": {
   "codemirror_mode": {
    "name": "ipython",
    "version": 3
   },
   "file_extension": ".py",
   "mimetype": "text/x-python",
   "name": "python",
   "nbconvert_exporter": "python",
   "pygments_lexer": "ipython3",
   "version": "3.11.9"
  }
 },
 "nbformat": 4,
 "nbformat_minor": 2
}
